{
 "cells": [
  {
   "cell_type": "markdown",
   "metadata": {},
   "source": [
    "# Setup: Test & Explore"
   ]
  },
  {
   "cell_type": "markdown",
   "metadata": {},
   "source": [
    "Start here!\n",
    "This file is used to test and explore the functions and get a better understanding of **prompt engineering, vector databases & the whole Retrieval-augmented generation (RAG) architecture**."
   ]
  },
  {
   "cell_type": "code",
   "execution_count": null,
   "metadata": {},
   "outputs": [],
   "source": [
    "# important for changing code in the modules without restarting the Kernel\n",
    "%load_ext autoreload\n",
    "%autoreload 2\n",
    "\n",
    "# import local functions\n",
    "from TalkToOllama import LLMOllama # --> TalkToOllama.py\n",
    "from TalkToDatabase import VectorDB # --> TalkToDatabase.py\n",
    "from ImportData import DataHandler # --> ImportData.py\n",
    "\n",
    "# Logging\n",
    "import logging\n",
    "log = logging.getLogger(\"applogger\")\n",
    "logging.basicConfig(level=logging.INFO)"
   ]
  },
  {
   "cell_type": "markdown",
   "metadata": {},
   "source": [
    "## Connection & Instances"
   ]
  },
  {
   "cell_type": "code",
   "execution_count": null,
   "metadata": {},
   "outputs": [],
   "source": []
  },
  {
   "cell_type": "markdown",
   "metadata": {},
   "source": [
    "## Import Data to vector database"
   ]
  },
  {
   "cell_type": "code",
   "execution_count": null,
   "metadata": {
    "scrolled": true
   },
   "outputs": [],
   "source": []
  },
  {
   "cell_type": "markdown",
   "metadata": {},
   "source": [
    "## Understand Tokenization & Embeddings"
   ]
  },
  {
   "cell_type": "code",
   "execution_count": null,
   "metadata": {},
   "outputs": [],
   "source": [
    "from sentence_transformers import SentenceTransformer\n",
    "\n",
    "# all-MiniLM-L6-v2 generates vectors with 384 dimensions\n",
    "model = SentenceTransformer(\"all-MiniLM-L6-v2\") \n",
    "\n",
    "# Encoding text\n",
    "text = \"Cisco Catalyst Center is at the heart of Cisco’s intent-based network architecture. Catalyst Center supports the expression of business intent for network use cases, such as base automation capabilities in the enterprise network. The Analytics and Assurance features of Catalyst Center provide end-to-end visibility into the network with full context through data and insights.\"\n",
    "embedding = model.encode(text,output_value=None)\n",
    "\n",
    "print(\"Text:\", text)\n",
    "print(\"Token IDs:\", embedding[\"input_ids\"])\n",
    "print(\"Embedding:\", embedding[\"sentence_embedding\"])"
   ]
  },
  {
   "cell_type": "markdown",
   "metadata": {},
   "source": [
    "## Explore Vector Database"
   ]
  },
  {
   "cell_type": "code",
   "execution_count": null,
   "metadata": {},
   "outputs": [],
   "source": []
  },
  {
   "cell_type": "code",
   "execution_count": null,
   "metadata": {
    "scrolled": true
   },
   "outputs": [],
   "source": []
  },
  {
   "cell_type": "markdown",
   "metadata": {},
   "source": [
    "## Talk to LLM"
   ]
  },
  {
   "cell_type": "markdown",
   "metadata": {},
   "source": [
    "Prompting guide: https://llama.meta.com/docs/how-to-guides/prompting/ "
   ]
  },
  {
   "cell_type": "code",
   "execution_count": null,
   "metadata": {},
   "outputs": [],
   "source": []
  },
  {
   "cell_type": "code",
   "execution_count": null,
   "metadata": {},
   "outputs": [],
   "source": []
  },
  {
   "cell_type": "code",
   "execution_count": null,
   "metadata": {},
   "outputs": [],
   "source": [
    "# Makes the Markdown-Output nicer\n",
    "from IPython.display import Markdown, display\n",
    "display(Markdown(ask)) #LLM Output from the ask variable"
   ]
  }
 ],
 "metadata": {
  "kernelspec": {
   "display_name": "Python 3 (ipykernel)",
   "language": "python",
   "name": "python3"
  },
  "language_info": {
   "codemirror_mode": {
    "name": "ipython",
    "version": 3
   },
   "file_extension": ".py",
   "mimetype": "text/x-python",
   "name": "python",
   "nbconvert_exporter": "python",
   "pygments_lexer": "ipython3",
   "version": "3.13.1"
  }
 },
 "nbformat": 4,
 "nbformat_minor": 4
}
